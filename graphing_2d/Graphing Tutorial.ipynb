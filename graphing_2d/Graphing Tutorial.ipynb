{
 "metadata": {
  "name": "Graphing Tutorial"
 },
 "nbformat": 3,
 "nbformat_minor": 0,
 "worksheets": [
  {
   "cells": [
    {
     "cell_type": "markdown",
     "metadata": {},
     "source": "Graphing\n========\nWe'll be using the MatPlotLib library for plotting.\nDetails on its API can be found [here](http://matplotlib.org/api/index.html).\n\nModules\n-------\nThe main module is matplotlib.pyplot.\npyplot contains all the plotting methods. \n\nSometimes people will use matplotlib.pylab, this is just pyplot with numpy added into it's namespace.\n\nSo, let us import some modules:"
    },
    {
     "cell_type": "code",
     "collapsed": false,
     "input": "import matplotlib.pyplot as plt\nimport numpy as np",
     "language": "python",
     "metadata": {},
     "outputs": [],
     "prompt_number": 1
    },
    {
     "cell_type": "code",
     "collapsed": false,
     "input": "",
     "language": "python",
     "metadata": {},
     "outputs": []
    }
   ],
   "metadata": {}
  }
 ]
}